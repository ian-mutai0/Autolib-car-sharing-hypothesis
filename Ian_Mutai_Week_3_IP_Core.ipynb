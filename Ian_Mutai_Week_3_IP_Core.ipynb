{
  "nbformat": 4,
  "nbformat_minor": 0,
  "metadata": {
    "colab": {
      "name": "Ian Mutai Week 3 IP Core.ipynb",
      "provenance": [],
      "collapsed_sections": [],
      "toc_visible": true,
      "authorship_tag": "ABX9TyOFEqlP5x+xvxz/0appW9cu",
      "include_colab_link": true
    },
    "kernelspec": {
      "name": "python3",
      "display_name": "Python 3"
    },
    "language_info": {
      "name": "python"
    }
  },
  "cells": [
    {
      "cell_type": "markdown",
      "metadata": {
        "id": "view-in-github",
        "colab_type": "text"
      },
      "source": [
        "<a href=\"https://colab.research.google.com/github/ian-mutai0/Autolib-car-sharing-hypothesis/blob/main/Ian_Mutai_Week_3_IP_Core.ipynb\" target=\"_parent\"><img src=\"https://colab.research.google.com/assets/colab-badge.svg\" alt=\"Open In Colab\"/></a>"
      ]
    },
    {
      "cell_type": "markdown",
      "metadata": {
        "id": "LgOQAirDlpEf"
      },
      "source": [
        "# **AUTOLIB ELECTRIC CAR USAGE PROJECT**"
      ]
    },
    {
      "cell_type": "markdown",
      "metadata": {
        "id": "wfvboVEdlzn4"
      },
      "source": [
        "# 1.0 Defining the Question"
      ]
    },
    {
      "cell_type": "markdown",
      "metadata": {
        "id": "cMLBg8C2mNda"
      },
      "source": [
        "> ## Specifying the data analytic question"
      ]
    },
    {
      "cell_type": "markdown",
      "metadata": {
        "id": "bBxxLasemySE"
      },
      "source": [
        "> I have been asked to investigate a claim on blue cars from the Autolib dataset. \n",
        "- **Null hypothesis** : The average number of bluecars taken on Monday is similar to the average number of bluecars taken on Tuesday\n",
        "- **Alternative Hypothesis** : The average number of bluecars taken on Monday is different to the average number of bluecars taken on Tuesday"
      ]
    },
    {
      "cell_type": "markdown",
      "metadata": {
        "id": "U6TpM5JJnN3Q"
      },
      "source": [
        "> ## Defining the Metric for Success"
      ]
    },
    {
      "cell_type": "markdown",
      "metadata": {
        "id": "NCEq6f_DnW5I"
      },
      "source": [
        "> To be able to carry out hypothesis testing as our solution to the above data analytic question and be able to decide whether to reject or fail to reject the null hypothesis. "
      ]
    },
    {
      "cell_type": "markdown",
      "metadata": {
        "id": "3q2BZ_LUn95E"
      },
      "source": [
        "> ## Understanding the context"
      ]
    },
    {
      "cell_type": "markdown",
      "metadata": {
        "id": "uZQsQOTYnn4G"
      },
      "source": [
        "> As a data scientist, I have been tasked to investigate a claim about the blue cars from the provided Autolib dataset. Autolib is an electric car sharing company that deals with other electric cars as well such as the Utilib and the Utilib 1.4. "
      ]
    },
    {
      "cell_type": "markdown",
      "metadata": {
        "id": "NJnCdrKSqK8u"
      },
      "source": [
        "> ## Recording the Experimental Design"
      ]
    },
    {
      "cell_type": "markdown",
      "metadata": {
        "id": "j_80VF1WqRX4"
      },
      "source": [
        "> - Reading the dataset into our environment.\n",
        "- Tidying the data by checking for outliers, null values and duplicates and dealing with them.\n",
        "- Plotting univariate and bivariate summaries recording the observations.\n",
        " Implementing the solution by performing the hypothesis testing.\n",
        "- Intepret the resultant test statistic and p value so as to decide whether we will reject or fail to reject the null hypothesis. "
      ]
    },
    {
      "cell_type": "markdown",
      "metadata": {
        "id": "-Reebc96sN7e"
      },
      "source": [
        "> ## Data Relevance"
      ]
    },
    {
      "cell_type": "markdown",
      "metadata": {
        "id": "6ximhkw-seJ7"
      },
      "source": [
        "> - The dataset we have been provided is relevant because data such as the number of blue cars returned or taken, the postal code to show the location and the dates are all necessary in helping us understand the electric car usage in Paris. "
      ]
    },
    {
      "cell_type": "markdown",
      "metadata": {
        "id": "dxxh69Dl7oM_"
      },
      "source": [
        "# 2.0 Importing the relevant libraries"
      ]
    },
    {
      "cell_type": "code",
      "metadata": {
        "id": "94bM9nir7W6d"
      },
      "source": [
        "# Import all the necessary libraries\n",
        "import pandas as pd\n",
        "pd.options.mode.chained_assignment=None\n",
        "import numpy as np\n",
        "import seaborn as sns\n",
        "import matplotlib\n",
        "from matplotlib import pyplot as plt\n",
        "%matplotlib inline\n",
        "from scipy.stats import norm\n",
        "from scipy import stats"
      ],
      "execution_count": 1,
      "outputs": []
    },
    {
      "cell_type": "markdown",
      "metadata": {
        "id": "RFntoxYj8TuQ"
      },
      "source": [
        "# 3.0 Loading the dataset into our environment"
      ]
    },
    {
      "cell_type": "code",
      "metadata": {
        "id": "M4x6IAd59aq-"
      },
      "source": [
        "autolib = pd.read_csv('/content/autolib_daily_events_postal_code.csv')"
      ],
      "execution_count": 2,
      "outputs": []
    },
    {
      "cell_type": "markdown",
      "metadata": {
        "id": "oFpKqGom-zWj"
      },
      "source": [
        "# 4.0 Previewing the dataset"
      ]
    },
    {
      "cell_type": "code",
      "metadata": {
        "colab": {
          "base_uri": "https://localhost:8080/"
        },
        "id": "kfxKFP8QKlV_",
        "outputId": "1648cb68-fb44-4977-dc11-b149ba6b1d21"
      },
      "source": [
        "# Determining the number of records in our dataset\n",
        "autolib.shape"
      ],
      "execution_count": 3,
      "outputs": [
        {
          "output_type": "execute_result",
          "data": {
            "text/plain": [
              "(16085, 13)"
            ]
          },
          "metadata": {
            "tags": []
          },
          "execution_count": 3
        }
      ]
    },
    {
      "cell_type": "code",
      "metadata": {
        "colab": {
          "base_uri": "https://localhost:8080/"
        },
        "id": "iQfCxuLarY7f",
        "outputId": "3d8378bf-1981-4eb9-a57a-71d2303df3e8"
      },
      "source": [
        "# Checking the datatypes for each column\n",
        "autolib.dtypes"
      ],
      "execution_count": 4,
      "outputs": [
        {
          "output_type": "execute_result",
          "data": {
            "text/plain": [
              "Postal code                int64\n",
              "date                      object\n",
              "n_daily_data_points        int64\n",
              "dayOfWeek                  int64\n",
              "day_type                  object\n",
              "BlueCars_taken_sum         int64\n",
              "BlueCars_returned_sum      int64\n",
              "Utilib_taken_sum           int64\n",
              "Utilib_returned_sum        int64\n",
              "Utilib_14_taken_sum        int64\n",
              "Utilib_14_returned_sum     int64\n",
              "Slots_freed_sum            int64\n",
              "Slots_taken_sum            int64\n",
              "dtype: object"
            ]
          },
          "metadata": {
            "tags": []
          },
          "execution_count": 4
        }
      ]
    },
    {
      "cell_type": "code",
      "metadata": {
        "colab": {
          "base_uri": "https://localhost:8080/",
          "height": 241
        },
        "id": "VGnZ3lZ5-37F",
        "outputId": "1e864883-84b2-4a47-97f1-cfad874895c1"
      },
      "source": [
        "# The top 5 records in the dataset\n",
        "autolib.head()"
      ],
      "execution_count": 5,
      "outputs": [
        {
          "output_type": "execute_result",
          "data": {
            "text/html": [
              "<div>\n",
              "<style scoped>\n",
              "    .dataframe tbody tr th:only-of-type {\n",
              "        vertical-align: middle;\n",
              "    }\n",
              "\n",
              "    .dataframe tbody tr th {\n",
              "        vertical-align: top;\n",
              "    }\n",
              "\n",
              "    .dataframe thead th {\n",
              "        text-align: right;\n",
              "    }\n",
              "</style>\n",
              "<table border=\"1\" class=\"dataframe\">\n",
              "  <thead>\n",
              "    <tr style=\"text-align: right;\">\n",
              "      <th></th>\n",
              "      <th>Postal code</th>\n",
              "      <th>date</th>\n",
              "      <th>n_daily_data_points</th>\n",
              "      <th>dayOfWeek</th>\n",
              "      <th>day_type</th>\n",
              "      <th>BlueCars_taken_sum</th>\n",
              "      <th>BlueCars_returned_sum</th>\n",
              "      <th>Utilib_taken_sum</th>\n",
              "      <th>Utilib_returned_sum</th>\n",
              "      <th>Utilib_14_taken_sum</th>\n",
              "      <th>Utilib_14_returned_sum</th>\n",
              "      <th>Slots_freed_sum</th>\n",
              "      <th>Slots_taken_sum</th>\n",
              "    </tr>\n",
              "  </thead>\n",
              "  <tbody>\n",
              "    <tr>\n",
              "      <th>0</th>\n",
              "      <td>75001</td>\n",
              "      <td>1/1/2018</td>\n",
              "      <td>1440</td>\n",
              "      <td>0</td>\n",
              "      <td>weekday</td>\n",
              "      <td>110</td>\n",
              "      <td>103</td>\n",
              "      <td>3</td>\n",
              "      <td>2</td>\n",
              "      <td>10</td>\n",
              "      <td>9</td>\n",
              "      <td>22</td>\n",
              "      <td>20</td>\n",
              "    </tr>\n",
              "    <tr>\n",
              "      <th>1</th>\n",
              "      <td>75001</td>\n",
              "      <td>1/2/2018</td>\n",
              "      <td>1438</td>\n",
              "      <td>1</td>\n",
              "      <td>weekday</td>\n",
              "      <td>98</td>\n",
              "      <td>94</td>\n",
              "      <td>1</td>\n",
              "      <td>1</td>\n",
              "      <td>8</td>\n",
              "      <td>8</td>\n",
              "      <td>23</td>\n",
              "      <td>22</td>\n",
              "    </tr>\n",
              "    <tr>\n",
              "      <th>2</th>\n",
              "      <td>75001</td>\n",
              "      <td>1/3/2018</td>\n",
              "      <td>1439</td>\n",
              "      <td>2</td>\n",
              "      <td>weekday</td>\n",
              "      <td>138</td>\n",
              "      <td>139</td>\n",
              "      <td>0</td>\n",
              "      <td>0</td>\n",
              "      <td>2</td>\n",
              "      <td>2</td>\n",
              "      <td>27</td>\n",
              "      <td>27</td>\n",
              "    </tr>\n",
              "    <tr>\n",
              "      <th>3</th>\n",
              "      <td>75001</td>\n",
              "      <td>1/4/2018</td>\n",
              "      <td>1320</td>\n",
              "      <td>3</td>\n",
              "      <td>weekday</td>\n",
              "      <td>104</td>\n",
              "      <td>104</td>\n",
              "      <td>2</td>\n",
              "      <td>2</td>\n",
              "      <td>9</td>\n",
              "      <td>8</td>\n",
              "      <td>25</td>\n",
              "      <td>21</td>\n",
              "    </tr>\n",
              "    <tr>\n",
              "      <th>4</th>\n",
              "      <td>75001</td>\n",
              "      <td>1/5/2018</td>\n",
              "      <td>1440</td>\n",
              "      <td>4</td>\n",
              "      <td>weekday</td>\n",
              "      <td>114</td>\n",
              "      <td>117</td>\n",
              "      <td>3</td>\n",
              "      <td>3</td>\n",
              "      <td>6</td>\n",
              "      <td>6</td>\n",
              "      <td>18</td>\n",
              "      <td>20</td>\n",
              "    </tr>\n",
              "  </tbody>\n",
              "</table>\n",
              "</div>"
            ],
            "text/plain": [
              "   Postal code      date  ...  Slots_freed_sum  Slots_taken_sum\n",
              "0        75001  1/1/2018  ...               22               20\n",
              "1        75001  1/2/2018  ...               23               22\n",
              "2        75001  1/3/2018  ...               27               27\n",
              "3        75001  1/4/2018  ...               25               21\n",
              "4        75001  1/5/2018  ...               18               20\n",
              "\n",
              "[5 rows x 13 columns]"
            ]
          },
          "metadata": {
            "tags": []
          },
          "execution_count": 5
        }
      ]
    },
    {
      "cell_type": "code",
      "metadata": {
        "colab": {
          "base_uri": "https://localhost:8080/",
          "height": 241
        },
        "id": "DivWuMYR-saT",
        "outputId": "89e989da-21f8-47c6-99a9-3a882ba3eede"
      },
      "source": [
        "# The bottom 5 records in the dataset\n",
        "autolib.tail()"
      ],
      "execution_count": 6,
      "outputs": [
        {
          "output_type": "execute_result",
          "data": {
            "text/html": [
              "<div>\n",
              "<style scoped>\n",
              "    .dataframe tbody tr th:only-of-type {\n",
              "        vertical-align: middle;\n",
              "    }\n",
              "\n",
              "    .dataframe tbody tr th {\n",
              "        vertical-align: top;\n",
              "    }\n",
              "\n",
              "    .dataframe thead th {\n",
              "        text-align: right;\n",
              "    }\n",
              "</style>\n",
              "<table border=\"1\" class=\"dataframe\">\n",
              "  <thead>\n",
              "    <tr style=\"text-align: right;\">\n",
              "      <th></th>\n",
              "      <th>Postal code</th>\n",
              "      <th>date</th>\n",
              "      <th>n_daily_data_points</th>\n",
              "      <th>dayOfWeek</th>\n",
              "      <th>day_type</th>\n",
              "      <th>BlueCars_taken_sum</th>\n",
              "      <th>BlueCars_returned_sum</th>\n",
              "      <th>Utilib_taken_sum</th>\n",
              "      <th>Utilib_returned_sum</th>\n",
              "      <th>Utilib_14_taken_sum</th>\n",
              "      <th>Utilib_14_returned_sum</th>\n",
              "      <th>Slots_freed_sum</th>\n",
              "      <th>Slots_taken_sum</th>\n",
              "    </tr>\n",
              "  </thead>\n",
              "  <tbody>\n",
              "    <tr>\n",
              "      <th>16080</th>\n",
              "      <td>95880</td>\n",
              "      <td>6/15/2018</td>\n",
              "      <td>1440</td>\n",
              "      <td>4</td>\n",
              "      <td>weekday</td>\n",
              "      <td>15</td>\n",
              "      <td>10</td>\n",
              "      <td>0</td>\n",
              "      <td>0</td>\n",
              "      <td>2</td>\n",
              "      <td>3</td>\n",
              "      <td>0</td>\n",
              "      <td>0</td>\n",
              "    </tr>\n",
              "    <tr>\n",
              "      <th>16081</th>\n",
              "      <td>95880</td>\n",
              "      <td>6/16/2018</td>\n",
              "      <td>1440</td>\n",
              "      <td>5</td>\n",
              "      <td>weekend</td>\n",
              "      <td>19</td>\n",
              "      <td>19</td>\n",
              "      <td>0</td>\n",
              "      <td>0</td>\n",
              "      <td>2</td>\n",
              "      <td>1</td>\n",
              "      <td>0</td>\n",
              "      <td>0</td>\n",
              "    </tr>\n",
              "    <tr>\n",
              "      <th>16082</th>\n",
              "      <td>95880</td>\n",
              "      <td>6/17/2018</td>\n",
              "      <td>1440</td>\n",
              "      <td>6</td>\n",
              "      <td>weekend</td>\n",
              "      <td>33</td>\n",
              "      <td>35</td>\n",
              "      <td>1</td>\n",
              "      <td>1</td>\n",
              "      <td>0</td>\n",
              "      <td>0</td>\n",
              "      <td>0</td>\n",
              "      <td>0</td>\n",
              "    </tr>\n",
              "    <tr>\n",
              "      <th>16083</th>\n",
              "      <td>95880</td>\n",
              "      <td>6/18/2018</td>\n",
              "      <td>1440</td>\n",
              "      <td>0</td>\n",
              "      <td>weekday</td>\n",
              "      <td>11</td>\n",
              "      <td>14</td>\n",
              "      <td>3</td>\n",
              "      <td>5</td>\n",
              "      <td>2</td>\n",
              "      <td>2</td>\n",
              "      <td>0</td>\n",
              "      <td>0</td>\n",
              "    </tr>\n",
              "    <tr>\n",
              "      <th>16084</th>\n",
              "      <td>95880</td>\n",
              "      <td>6/19/2018</td>\n",
              "      <td>1370</td>\n",
              "      <td>1</td>\n",
              "      <td>weekday</td>\n",
              "      <td>2</td>\n",
              "      <td>2</td>\n",
              "      <td>2</td>\n",
              "      <td>1</td>\n",
              "      <td>0</td>\n",
              "      <td>0</td>\n",
              "      <td>0</td>\n",
              "      <td>0</td>\n",
              "    </tr>\n",
              "  </tbody>\n",
              "</table>\n",
              "</div>"
            ],
            "text/plain": [
              "       Postal code       date  ...  Slots_freed_sum  Slots_taken_sum\n",
              "16080        95880  6/15/2018  ...                0                0\n",
              "16081        95880  6/16/2018  ...                0                0\n",
              "16082        95880  6/17/2018  ...                0                0\n",
              "16083        95880  6/18/2018  ...                0                0\n",
              "16084        95880  6/19/2018  ...                0                0\n",
              "\n",
              "[5 rows x 13 columns]"
            ]
          },
          "metadata": {
            "tags": []
          },
          "execution_count": 6
        }
      ]
    },
    {
      "cell_type": "code",
      "metadata": {
        "colab": {
          "base_uri": "https://localhost:8080/",
          "height": 117
        },
        "id": "Vdrur-4DAdkH",
        "outputId": "c0c84dd2-56d4-4641-b421-f5198565c988"
      },
      "source": [
        "# A random sample within the dataset\n",
        "autolib.sample()"
      ],
      "execution_count": 7,
      "outputs": [
        {
          "output_type": "execute_result",
          "data": {
            "text/html": [
              "<div>\n",
              "<style scoped>\n",
              "    .dataframe tbody tr th:only-of-type {\n",
              "        vertical-align: middle;\n",
              "    }\n",
              "\n",
              "    .dataframe tbody tr th {\n",
              "        vertical-align: top;\n",
              "    }\n",
              "\n",
              "    .dataframe thead th {\n",
              "        text-align: right;\n",
              "    }\n",
              "</style>\n",
              "<table border=\"1\" class=\"dataframe\">\n",
              "  <thead>\n",
              "    <tr style=\"text-align: right;\">\n",
              "      <th></th>\n",
              "      <th>Postal code</th>\n",
              "      <th>date</th>\n",
              "      <th>n_daily_data_points</th>\n",
              "      <th>dayOfWeek</th>\n",
              "      <th>day_type</th>\n",
              "      <th>BlueCars_taken_sum</th>\n",
              "      <th>BlueCars_returned_sum</th>\n",
              "      <th>Utilib_taken_sum</th>\n",
              "      <th>Utilib_returned_sum</th>\n",
              "      <th>Utilib_14_taken_sum</th>\n",
              "      <th>Utilib_14_returned_sum</th>\n",
              "      <th>Slots_freed_sum</th>\n",
              "      <th>Slots_taken_sum</th>\n",
              "    </tr>\n",
              "  </thead>\n",
              "  <tbody>\n",
              "    <tr>\n",
              "      <th>1642</th>\n",
              "      <td>75011</td>\n",
              "      <td>3/27/2018</td>\n",
              "      <td>1440</td>\n",
              "      <td>1</td>\n",
              "      <td>weekday</td>\n",
              "      <td>450</td>\n",
              "      <td>442</td>\n",
              "      <td>16</td>\n",
              "      <td>16</td>\n",
              "      <td>24</td>\n",
              "      <td>25</td>\n",
              "      <td>91</td>\n",
              "      <td>88</td>\n",
              "    </tr>\n",
              "  </tbody>\n",
              "</table>\n",
              "</div>"
            ],
            "text/plain": [
              "      Postal code       date  ...  Slots_freed_sum  Slots_taken_sum\n",
              "1642        75011  3/27/2018  ...               91               88\n",
              "\n",
              "[1 rows x 13 columns]"
            ]
          },
          "metadata": {
            "tags": []
          },
          "execution_count": 7
        }
      ]
    },
    {
      "cell_type": "markdown",
      "metadata": {
        "id": "q4U_BBxGAy0T"
      },
      "source": [
        "# 5.0 Data Cleaning"
      ]
    },
    {
      "cell_type": "markdown",
      "metadata": {
        "id": "VXDIIW3IBNeS"
      },
      "source": [
        "### i) Validity"
      ]
    },
    {
      "cell_type": "code",
      "metadata": {
        "id": "OWmZg5jbAtoX"
      },
      "source": [
        "# This involves checking and then dropping the irrelevant columns \n",
        "# We will only need the bluecars columns, thus we can drop the other cars\n",
        "autolib.drop(\"Utilib_taken_sum\", axis = 1, inplace=True)\n",
        "autolib.drop(\"Utilib_returned_sum\", axis=1, inplace=True)\n",
        "autolib.drop(\"Utilib_14_taken_sum\", axis=1, inplace=True)\n",
        "autolib.drop(\"Utilib_14_returned_sum\", axis=1, inplace=True)\n",
        "autolib.drop(\"Slots_freed_sum\", axis=1, inplace=True)\n",
        "autolib.drop(\"Slots_taken_sum\", axis=1, inplace=True)"
      ],
      "execution_count": 8,
      "outputs": []
    },
    {
      "cell_type": "markdown",
      "metadata": {
        "id": "muoXDUlgD1Sh"
      },
      "source": [
        "> ## ii) Accuracy"
      ]
    },
    {
      "cell_type": "code",
      "metadata": {
        "id": "ElE-aC1ID8Fq"
      },
      "source": [
        ""
      ],
      "execution_count": 8,
      "outputs": []
    },
    {
      "cell_type": "markdown",
      "metadata": {
        "id": "c5jryMt2EXcB"
      },
      "source": [
        "> ## iii) Completeness"
      ]
    },
    {
      "cell_type": "code",
      "metadata": {
        "colab": {
          "base_uri": "https://localhost:8080/"
        },
        "id": "jD6Tp-8TEaxc",
        "outputId": "9662a44e-0098-4a36-90a2-c0ce6a65c537"
      },
      "source": [
        "# Checking for null values within the data\n",
        "autolib.isna().any()"
      ],
      "execution_count": 9,
      "outputs": [
        {
          "output_type": "execute_result",
          "data": {
            "text/plain": [
              "Postal code              False\n",
              "date                     False\n",
              "n_daily_data_points      False\n",
              "dayOfWeek                False\n",
              "day_type                 False\n",
              "BlueCars_taken_sum       False\n",
              "BlueCars_returned_sum    False\n",
              "dtype: bool"
            ]
          },
          "metadata": {
            "tags": []
          },
          "execution_count": 9
        }
      ]
    },
    {
      "cell_type": "markdown",
      "metadata": {
        "id": "KMSRaGRVFdqc"
      },
      "source": [
        "## iv) Consistency"
      ]
    },
    {
      "cell_type": "code",
      "metadata": {
        "colab": {
          "base_uri": "https://localhost:8080/"
        },
        "id": "FDTwIPlXEhDP",
        "outputId": "41620dc5-d63e-4339-b629-2c843074ff5d"
      },
      "source": [
        "# This involves checking for duplicate values\n",
        "autolib.duplicated().any()"
      ],
      "execution_count": 10,
      "outputs": [
        {
          "output_type": "execute_result",
          "data": {
            "text/plain": [
              "False"
            ]
          },
          "metadata": {
            "tags": []
          },
          "execution_count": 10
        }
      ]
    },
    {
      "cell_type": "markdown",
      "metadata": {
        "id": "rKkyz5ZVFsFs"
      },
      "source": [
        "> ## v) Uniformity"
      ]
    },
    {
      "cell_type": "code",
      "metadata": {
        "colab": {
          "base_uri": "https://localhost:8080/",
          "height": 204
        },
        "id": "oi6Aim9iFugD",
        "outputId": "9e6428d8-0aff-49f3-ca96-a97db2563201"
      },
      "source": [
        "# We check if all columns are uniform with each other \n",
        "# Also we make sure all column names are similar\n",
        "autolib.columns = autolib.columns.str.strip().str.lower().str.replace(' ', '_').str.replace('(', '').str.replace(')', '')\n",
        "autolib.head()"
      ],
      "execution_count": 11,
      "outputs": [
        {
          "output_type": "execute_result",
          "data": {
            "text/html": [
              "<div>\n",
              "<style scoped>\n",
              "    .dataframe tbody tr th:only-of-type {\n",
              "        vertical-align: middle;\n",
              "    }\n",
              "\n",
              "    .dataframe tbody tr th {\n",
              "        vertical-align: top;\n",
              "    }\n",
              "\n",
              "    .dataframe thead th {\n",
              "        text-align: right;\n",
              "    }\n",
              "</style>\n",
              "<table border=\"1\" class=\"dataframe\">\n",
              "  <thead>\n",
              "    <tr style=\"text-align: right;\">\n",
              "      <th></th>\n",
              "      <th>postal_code</th>\n",
              "      <th>date</th>\n",
              "      <th>n_daily_data_points</th>\n",
              "      <th>dayofweek</th>\n",
              "      <th>day_type</th>\n",
              "      <th>bluecars_taken_sum</th>\n",
              "      <th>bluecars_returned_sum</th>\n",
              "    </tr>\n",
              "  </thead>\n",
              "  <tbody>\n",
              "    <tr>\n",
              "      <th>0</th>\n",
              "      <td>75001</td>\n",
              "      <td>1/1/2018</td>\n",
              "      <td>1440</td>\n",
              "      <td>0</td>\n",
              "      <td>weekday</td>\n",
              "      <td>110</td>\n",
              "      <td>103</td>\n",
              "    </tr>\n",
              "    <tr>\n",
              "      <th>1</th>\n",
              "      <td>75001</td>\n",
              "      <td>1/2/2018</td>\n",
              "      <td>1438</td>\n",
              "      <td>1</td>\n",
              "      <td>weekday</td>\n",
              "      <td>98</td>\n",
              "      <td>94</td>\n",
              "    </tr>\n",
              "    <tr>\n",
              "      <th>2</th>\n",
              "      <td>75001</td>\n",
              "      <td>1/3/2018</td>\n",
              "      <td>1439</td>\n",
              "      <td>2</td>\n",
              "      <td>weekday</td>\n",
              "      <td>138</td>\n",
              "      <td>139</td>\n",
              "    </tr>\n",
              "    <tr>\n",
              "      <th>3</th>\n",
              "      <td>75001</td>\n",
              "      <td>1/4/2018</td>\n",
              "      <td>1320</td>\n",
              "      <td>3</td>\n",
              "      <td>weekday</td>\n",
              "      <td>104</td>\n",
              "      <td>104</td>\n",
              "    </tr>\n",
              "    <tr>\n",
              "      <th>4</th>\n",
              "      <td>75001</td>\n",
              "      <td>1/5/2018</td>\n",
              "      <td>1440</td>\n",
              "      <td>4</td>\n",
              "      <td>weekday</td>\n",
              "      <td>114</td>\n",
              "      <td>117</td>\n",
              "    </tr>\n",
              "  </tbody>\n",
              "</table>\n",
              "</div>"
            ],
            "text/plain": [
              "   postal_code      date  ...  bluecars_taken_sum  bluecars_returned_sum\n",
              "0        75001  1/1/2018  ...                 110                    103\n",
              "1        75001  1/2/2018  ...                  98                     94\n",
              "2        75001  1/3/2018  ...                 138                    139\n",
              "3        75001  1/4/2018  ...                 104                    104\n",
              "4        75001  1/5/2018  ...                 114                    117\n",
              "\n",
              "[5 rows x 7 columns]"
            ]
          },
          "metadata": {
            "tags": []
          },
          "execution_count": 11
        }
      ]
    },
    {
      "cell_type": "code",
      "metadata": {
        "colab": {
          "base_uri": "https://localhost:8080/",
          "height": 204
        },
        "id": "yVwhww5LIuUQ",
        "outputId": "0327e61b-26eb-4db8-b814-dcd4cdba911b"
      },
      "source": [
        "# We could also go ahead to identify the days of the week by their actual names\n",
        "autolib['day'] = autolib['dayofweek'].replace({0:'Monday', 1:'Tuesday', 2:'Wednesday', 3:'Thursday', 4:'Friday', 5:'Saturday', 6:'Sunday'})\n",
        "autolib.head()"
      ],
      "execution_count": 12,
      "outputs": [
        {
          "output_type": "execute_result",
          "data": {
            "text/html": [
              "<div>\n",
              "<style scoped>\n",
              "    .dataframe tbody tr th:only-of-type {\n",
              "        vertical-align: middle;\n",
              "    }\n",
              "\n",
              "    .dataframe tbody tr th {\n",
              "        vertical-align: top;\n",
              "    }\n",
              "\n",
              "    .dataframe thead th {\n",
              "        text-align: right;\n",
              "    }\n",
              "</style>\n",
              "<table border=\"1\" class=\"dataframe\">\n",
              "  <thead>\n",
              "    <tr style=\"text-align: right;\">\n",
              "      <th></th>\n",
              "      <th>postal_code</th>\n",
              "      <th>date</th>\n",
              "      <th>n_daily_data_points</th>\n",
              "      <th>dayofweek</th>\n",
              "      <th>day_type</th>\n",
              "      <th>bluecars_taken_sum</th>\n",
              "      <th>bluecars_returned_sum</th>\n",
              "      <th>day</th>\n",
              "    </tr>\n",
              "  </thead>\n",
              "  <tbody>\n",
              "    <tr>\n",
              "      <th>0</th>\n",
              "      <td>75001</td>\n",
              "      <td>1/1/2018</td>\n",
              "      <td>1440</td>\n",
              "      <td>0</td>\n",
              "      <td>weekday</td>\n",
              "      <td>110</td>\n",
              "      <td>103</td>\n",
              "      <td>Monday</td>\n",
              "    </tr>\n",
              "    <tr>\n",
              "      <th>1</th>\n",
              "      <td>75001</td>\n",
              "      <td>1/2/2018</td>\n",
              "      <td>1438</td>\n",
              "      <td>1</td>\n",
              "      <td>weekday</td>\n",
              "      <td>98</td>\n",
              "      <td>94</td>\n",
              "      <td>Tuesday</td>\n",
              "    </tr>\n",
              "    <tr>\n",
              "      <th>2</th>\n",
              "      <td>75001</td>\n",
              "      <td>1/3/2018</td>\n",
              "      <td>1439</td>\n",
              "      <td>2</td>\n",
              "      <td>weekday</td>\n",
              "      <td>138</td>\n",
              "      <td>139</td>\n",
              "      <td>Wednesday</td>\n",
              "    </tr>\n",
              "    <tr>\n",
              "      <th>3</th>\n",
              "      <td>75001</td>\n",
              "      <td>1/4/2018</td>\n",
              "      <td>1320</td>\n",
              "      <td>3</td>\n",
              "      <td>weekday</td>\n",
              "      <td>104</td>\n",
              "      <td>104</td>\n",
              "      <td>Thursday</td>\n",
              "    </tr>\n",
              "    <tr>\n",
              "      <th>4</th>\n",
              "      <td>75001</td>\n",
              "      <td>1/5/2018</td>\n",
              "      <td>1440</td>\n",
              "      <td>4</td>\n",
              "      <td>weekday</td>\n",
              "      <td>114</td>\n",
              "      <td>117</td>\n",
              "      <td>Friday</td>\n",
              "    </tr>\n",
              "  </tbody>\n",
              "</table>\n",
              "</div>"
            ],
            "text/plain": [
              "   postal_code      date  ...  bluecars_returned_sum        day\n",
              "0        75001  1/1/2018  ...                    103     Monday\n",
              "1        75001  1/2/2018  ...                     94    Tuesday\n",
              "2        75001  1/3/2018  ...                    139  Wednesday\n",
              "3        75001  1/4/2018  ...                    104   Thursday\n",
              "4        75001  1/5/2018  ...                    117     Friday\n",
              "\n",
              "[5 rows x 8 columns]"
            ]
          },
          "metadata": {
            "tags": []
          },
          "execution_count": 12
        }
      ]
    },
    {
      "cell_type": "code",
      "metadata": {
        "id": "spImP3U9R9yH"
      },
      "source": [
        "# We could also change the date column to datetime\n",
        "#pd.to_datetime(autolib['date'])"
      ],
      "execution_count": 13,
      "outputs": []
    },
    {
      "cell_type": "markdown",
      "metadata": {
        "id": "Uq8gMDD_I74H"
      },
      "source": [
        "> ## vi) Outliers"
      ]
    },
    {
      "cell_type": "code",
      "metadata": {
        "colab": {
          "base_uri": "https://localhost:8080/",
          "height": 582
        },
        "id": "PXIGWmy6I_3G",
        "outputId": "3f643dbf-e235-466b-9139-9ba911514ec3"
      },
      "source": [
        "# We can identify outliers in our data using boxplots\n",
        "fig, (ax1, ax2) = plt.subplots(2,1, figsize=(10, 7))\n",
        "fig.suptitle('Boxplots')\n",
        "sns.boxplot(autolib['bluecars_taken_sum'], ax=ax1)\n",
        "sns.boxplot(autolib['bluecars_returned_sum'], ax=ax2)\n",
        "plt.show()"
      ],
      "execution_count": 14,
      "outputs": [
        {
          "output_type": "stream",
          "text": [
            "/usr/local/lib/python3.7/dist-packages/seaborn/_decorators.py:43: FutureWarning: Pass the following variable as a keyword arg: x. From version 0.12, the only valid positional argument will be `data`, and passing other arguments without an explicit keyword will result in an error or misinterpretation.\n",
            "  FutureWarning\n",
            "/usr/local/lib/python3.7/dist-packages/seaborn/_decorators.py:43: FutureWarning: Pass the following variable as a keyword arg: x. From version 0.12, the only valid positional argument will be `data`, and passing other arguments without an explicit keyword will result in an error or misinterpretation.\n",
            "  FutureWarning\n"
          ],
          "name": "stderr"
        },
        {
          "output_type": "display_data",
          "data": {
            "image/png": "[encoded data removed]",
            "text/plain": [
              "<Figure size 720x504 with 2 Axes>"
            ]
          },
          "metadata": {
            "tags": [],
            "needs_background": "light"
          }
        }
      ]
    },
    {
      "cell_type": "markdown",
      "metadata": {
        "id": "l_W4jEGxLQNA"
      },
      "source": [
        "> We will not drop the outliers because they are an actual representation of the number of blue cars taken or returned with some areas using more blue cars than others. "
      ]
    },
    {
      "cell_type": "markdown",
      "metadata": {
        "id": "0Eq8qBefGfgb"
      },
      "source": [
        "# 6.0 Exploratory Data Analysis"
      ]
    },
    {
      "cell_type": "markdown",
      "metadata": {
        "id": "4xTXdU5yGl7i"
      },
      "source": [
        "## 6.1 Univariate Analysis"
      ]
    },
    {
      "cell_type": "markdown",
      "metadata": {
        "id": "qQ2zF8myG7V9"
      },
      "source": [
        "> ### 6.1.1 Categorical Variables"
      ]
    },
    {
      "cell_type": "markdown",
      "metadata": {
        "id": "TxZY5KZUHxrE"
      },
      "source": [
        "> #### a) Frequency Tables"
      ]
    },
    {
      "cell_type": "code",
      "metadata": {
        "id": "XmONnvQyH240",
        "colab": {
          "base_uri": "https://localhost:8080/"
        },
        "outputId": "fd92828f-8887-45a4-d802-586ac5fa5064"
      },
      "source": [
        "# Frequency of day type\n",
        "daytype = autolib.day_type.value_counts()\n",
        "print(\"The frequency table of the day type is: \\n\", daytype)\n",
        "print(\"\\n\")\n",
        "\n",
        "# Frequency of the days of the week\n",
        "day = autolib.day.value_counts()\n",
        "print(\"The frequency table of the days of the week is: \\n\", day)\n",
        "print(\"\\n\")"
      ],
      "execution_count": 15,
      "outputs": [
        {
          "output_type": "stream",
          "text": [
            "The frequency table of the day type is: \n",
            " weekday    11544\n",
            "weekend     4541\n",
            "Name: day_type, dtype: int64\n",
            "\n",
            "\n",
            "The frequency table of the days of the week is: \n",
            " Monday       2374\n",
            "Tuesday      2363\n",
            "Sunday       2274\n",
            "Friday       2271\n",
            "Thursday     2268\n",
            "Wednesday    2268\n",
            "Saturday     2267\n",
            "Name: day, dtype: int64\n",
            "\n",
            "\n"
          ],
          "name": "stdout"
        }
      ]
    },
    {
      "cell_type": "markdown",
      "metadata": {
        "id": "LxttddLnQhOb"
      },
      "source": [
        "#### b) Histograms"
      ]
    },
    {
      "cell_type": "code",
      "metadata": {
        "id": "nbUEggitGkGb",
        "colab": {
          "base_uri": "https://localhost:8080/",
          "height": 458
        },
        "outputId": "03dc571c-a4e0-46ce-d66d-9a3ea05a1fb7"
      },
      "source": [
        "# Histogram of the days of the week\n",
        "day = autolib['day']\n",
        "fig=plt.figure(figsize=(9,7))\n",
        "plt.hist(day, bins=7, histtype='bar', color='yellow', rwidth=0.9)\n",
        "plt.title(\"Histogram of the days of the week\", fontweight='bold')\n",
        "plt.xlabel(\"Day\")\n",
        "plt.ylabel(\"Number of days\")\n",
        "plt.show()"
      ],
      "execution_count": 16,
      "outputs": [
        {
          "output_type": "display_data",
          "data": {
            "image/png": "[encoded data removed]",
            "text/plain": [
              "<Figure size 648x504 with 1 Axes>"
            ]
          },
          "metadata": {
            "tags": [],
            "needs_background": "light"
          }
        }
      ]
    },
    {
      "cell_type": "code",
      "metadata": {
        "colab": {
          "base_uri": "https://localhost:8080/",
          "height": 458
        },
        "id": "XICn73PBPbMh",
        "outputId": "007a8026-51f5-42b0-b3d6-3e46a7ad247f"
      },
      "source": [
        "# Histogram of the day type\n",
        "daytype = autolib['day_type']\n",
        "fig=plt.figure(figsize=(6,7))\n",
        "plt.hist(daytype, bins=2, histtype='bar', color='blue', rwidth=0.9)\n",
        "plt.title(\"Histogram of the type of day\", fontweight='bold')\n",
        "plt.xlabel(\"Day Type\")\n",
        "plt.ylabel(\"Number of days\")\n",
        "plt.show()"
      ],
      "execution_count": 17,
      "outputs": [
        {
          "output_type": "display_data",
          "data": {
            "image/png": "[encoded data removed]",
            "text/plain": [
              "<Figure size 432x504 with 1 Axes>"
            ]
          },
          "metadata": {
            "tags": [],
            "needs_background": "light"
          }
        }
      ]
    },
    {
      "cell_type": "markdown",
      "metadata": {
        "id": "Sh8LsYGMQqY-"
      },
      "source": [
        "#### c) Pie Charts"
      ]
    },
    {
      "cell_type": "code",
      "metadata": {
        "id": "iXs38kMcRgwI",
        "colab": {
          "base_uri": "https://localhost:8080/",
          "height": 286
        },
        "outputId": "7c8fc0b0-8545-40fc-c0be-14cb8ad94cf8"
      },
      "source": [
        "# Pie chart of the type of day\n",
        "autolib['day_type'].value_counts().plot(kind='pie',colors=['red','green'], autopct='%1.1f%%')\n",
        "plt.title(\"Pie chart of the type of day\", y=1.1, fontweight='bold')\n",
        "plt.show()"
      ],
      "execution_count": 18,
      "outputs": [
        {
          "output_type": "display_data",
          "data": {
            "image/png": "[encoded data removed]",
            "text/plain": [
              "<Figure size 432x288 with 1 Axes>"
            ]
          },
          "metadata": {
            "tags": []
          }
        }
      ]
    },
    {
      "cell_type": "code",
      "metadata": {
        "colab": {
          "base_uri": "https://localhost:8080/",
          "height": 286
        },
        "id": "reoHOCffQr45",
        "outputId": "5cdfccf6-b47e-47b5-c7e4-4224fe04163e"
      },
      "source": [
        "# Pie chart of the number of days \n",
        "autolib['day'].value_counts().plot(kind='pie', autopct='%1.1f%%')\n",
        "plt.title(\"Pie chart of days\", y=1.1, fontweight='bold')\n",
        "plt.show()"
      ],
      "execution_count": 19,
      "outputs": [
        {
          "output_type": "display_data",
          "data": {
            "image/png": "[encoded data removed]",
            "text/plain": [
              "<Figure size 432x288 with 1 Axes>"
            ]
          },
          "metadata": {
            "tags": []
          }
        }
      ]
    },
    {
      "cell_type": "markdown",
      "metadata": {
        "id": "msqpCgKtRjmp"
      },
      "source": [
        "### 6.1.2 Numerical Variables"
      ]
    },
    {
      "cell_type": "markdown",
      "metadata": {
        "id": "H_nLw-RARwfn"
      },
      "source": [
        "#### a) Measures of central tendency "
      ]
    },
    {
      "cell_type": "code",
      "metadata": {
        "id": "_kT4IfAeUIXv"
      },
      "source": [
        "# The measures of central tendency are: mean, median and mode"
      ],
      "execution_count": 20,
      "outputs": []
    },
    {
      "cell_type": "code",
      "metadata": {
        "colab": {
          "base_uri": "https://localhost:8080/"
        },
        "id": "3wrP4c5eR0B-",
        "outputId": "57043d15-624c-46f2-c2d3-6db26a2ebdf8"
      },
      "source": [
        "# Mean of the bluecars taken \n",
        "taken_mean = autolib['bluecars_taken_sum'].mean()\n",
        "print(\"The mean of the bluecars taken is: \", taken_mean)\n",
        "print('\\n')\n",
        "\n",
        "# Mean of the bluecars returned\n",
        "returned_mean = autolib['bluecars_returned_sum'].mean()\n",
        "print(\"The mean of the bluecars returned is: \", returned_mean)\n"
      ],
      "execution_count": 21,
      "outputs": [
        {
          "output_type": "stream",
          "text": [
            "The mean of the bluecars taken is:  125.92695057506994\n",
            "\n",
            "\n",
            "The mean of the bluecars returned is:  125.912713708424\n"
          ],
          "name": "stdout"
        }
      ]
    },
    {
      "cell_type": "code",
      "metadata": {
        "colab": {
          "base_uri": "https://localhost:8080/"
        },
        "id": "vScruKKmU5R_",
        "outputId": "7db98457-0622-429d-892a-371306cecfda"
      },
      "source": [
        "# Median of the bluecars taken\n",
        "taken_median = autolib['bluecars_taken_sum'].median()\n",
        "print(\"The median of the bluecars taken is: \", taken_median)\n",
        "print('\\n')\n",
        "\n",
        "# Median of the bluecars returned\n",
        "returned_median = autolib['bluecars_returned_sum'].median()\n",
        "print(\"The median of the bluecars returned is: \", returned_median)"
      ],
      "execution_count": 22,
      "outputs": [
        {
          "output_type": "stream",
          "text": [
            "The median of the bluecars taken is:  46.0\n",
            "\n",
            "\n",
            "The median of the bluecars returned is:  46.0\n"
          ],
          "name": "stdout"
        }
      ]
    },
    {
      "cell_type": "code",
      "metadata": {
        "colab": {
          "base_uri": "https://localhost:8080/"
        },
        "id": "G6jW1XlQXF1M",
        "outputId": "4276a5c6-a531-46a0-b980-df64382e31d3"
      },
      "source": [
        "# Mode of the bluecars taken\n",
        "taken_mode  = autolib['bluecars_taken_sum'].mode()\n",
        "print(\"The mode of the bluecars taken is: \\n\", taken_mode)\n",
        "print('\\n')\n",
        "\n",
        "# Mode of the bluecars returned \n",
        "returned_mode = autolib['bluecars_returned_sum'].mode()\n",
        "print(\"The mode of the bluecars returned is: \\n\", returned_mode)"
      ],
      "execution_count": 23,
      "outputs": [
        {
          "output_type": "stream",
          "text": [
            "The mode of the bluecars taken is: \n",
            " 0    12\n",
            "dtype: int64\n",
            "\n",
            "\n",
            "The mode of the bluecars returned is: \n",
            " 0    13\n",
            "dtype: int64\n"
          ],
          "name": "stdout"
        }
      ]
    },
    {
      "cell_type": "markdown",
      "metadata": {
        "id": "VSicSinpZRy7"
      },
      "source": [
        "#### b) Measures of dispersion"
      ]
    },
    {
      "cell_type": "code",
      "metadata": {
        "colab": {
          "base_uri": "https://localhost:8080/"
        },
        "id": "CXWaH9k-ZVQz",
        "outputId": "cce6270e-fb66-4f30-d752-9301f74393a6"
      },
      "source": [
        "# Standard Deviation \n",
        "taken_std = autolib['bluecars_taken_sum'].std()\n",
        "print(\"The standard deviation of the bluecars taken is: \", taken_std)\n",
        "print('\\n')\n",
        "\n",
        "returned_std = autolib['bluecars_returned_sum'].std()\n",
        "print(\"The standard deviation of the bluecars returned is: \", returned_std)"
      ],
      "execution_count": 24,
      "outputs": [
        {
          "output_type": "stream",
          "text": [
            "The standard deviation of the bluecars taken is:  185.42657876727893\n",
            "\n",
            "\n",
            "The standard deviation of the bluecars returned is:  185.50153480148427\n"
          ],
          "name": "stdout"
        }
      ]
    },
    {
      "cell_type": "code",
      "metadata": {
        "colab": {
          "base_uri": "https://localhost:8080/"
        },
        "id": "_US08DyNa062",
        "outputId": "8769b693-87c5-4556-d8e9-6c2acfddd47f"
      },
      "source": [
        "# Variance\n",
        "taken_var = autolib['bluecars_taken_sum'].var()\n",
        "print(\"The variance of the bluecars taken is: \\n\", taken_var)\n",
        "print('\\n')\n",
        "\n",
        "returned_var = autolib['bluecars_returned_sum'].var()\n",
        "print(\"The variance of the bluecars returned is: \\n\", returned_var)\n",
        "print('\\n')"
      ],
      "execution_count": 25,
      "outputs": [
        {
          "output_type": "stream",
          "text": [
            "The variance of the bluecars taken is: \n",
            " 34383.01611333789\n",
            "\n",
            "\n",
            "The variance of the bluecars returned is: \n",
            " 34410.819413706275\n",
            "\n",
            "\n"
          ],
          "name": "stdout"
        }
      ]
    },
    {
      "cell_type": "code",
      "metadata": {
        "colab": {
          "base_uri": "https://localhost:8080/"
        },
        "id": "yedg1hcgbrxm",
        "outputId": "527b2686-cd7e-4915-aee4-ef19770056a4"
      },
      "source": [
        "# Range\n",
        "taken_max = autolib['bluecars_taken_sum'].max()\n",
        "taken_min = autolib['bluecars_taken_sum'].min()\n",
        "range = taken_max - taken_min \n",
        "print(\"The range of the bluecars taken is: \\n\", range)\n",
        "print('\\n')\n",
        "\n",
        "returned_max = autolib['bluecars_returned_sum'].max()\n",
        "returned_min = autolib['bluecars_returned_sum'].min()\n",
        "range = returned_max - returned_min \n",
        "print(\"The range of the bluecars returned is: \\n\", range)\n",
        "print('\\n')"
      ],
      "execution_count": 26,
      "outputs": [
        {
          "output_type": "stream",
          "text": [
            "The range of the bluecars taken is: \n",
            " 1352\n",
            "\n",
            "\n",
            "The range of the bluecars returned is: \n",
            " 1332\n",
            "\n",
            "\n"
          ],
          "name": "stdout"
        }
      ]
    },
    {
      "cell_type": "code",
      "metadata": {
        "colab": {
          "base_uri": "https://localhost:8080/"
        },
        "id": "9j_feLaec9AX",
        "outputId": "171dcc95-2e75-4135-889b-038a27213ff2"
      },
      "source": [
        "# Quantiles\n",
        "taken_quantiles = autolib['bluecars_taken_sum'].quantile([0.25,0.50,0.75])\n",
        "print(\"The quantiles for the bluecars taken are: \\n\", taken_quantiles)\n",
        "print('\\n')\n",
        "\n",
        "returned_quantiles = autolib['bluecars_returned_sum'].quantile([0.25,0.50,0.75])\n",
        "print(\"The quantiles for the bluecars returned are: \\n\", returned_quantiles)\n",
        "print('\\n')"
      ],
      "execution_count": 27,
      "outputs": [
        {
          "output_type": "stream",
          "text": [
            "The quantiles for the bluecars taken are: \n",
            " 0.25     20.0\n",
            "0.50     46.0\n",
            "0.75    135.0\n",
            "Name: bluecars_taken_sum, dtype: float64\n",
            "\n",
            "\n",
            "The quantiles for the bluecars returned are: \n",
            " 0.25     20.0\n",
            "0.50     46.0\n",
            "0.75    135.0\n",
            "Name: bluecars_returned_sum, dtype: float64\n",
            "\n",
            "\n"
          ],
          "name": "stdout"
        }
      ]
    },
    {
      "cell_type": "code",
      "metadata": {
        "colab": {
          "base_uri": "https://localhost:8080/"
        },
        "id": "PkHKOdDud-c5",
        "outputId": "f62c2f15-f7d1-4420-d70a-6b9d43b9dfd6"
      },
      "source": [
        "# Skewness\n",
        "taken_skew = autolib['bluecars_taken_sum'].skew()\n",
        "print(\"The skewness of the bluecars taken is: \\n\", taken_skew)\n",
        "if taken_skew == 0:\n",
        "  print(\"The distribution is symmetrical\")\n",
        "elif taken_skew > 0:\n",
        "  print(\"The distribution is positively skewed\")\n",
        "else:\n",
        "  print(\"The distribution is negatively skewed\")\n",
        "print('\\n')\n",
        "\n",
        "returned_skew = autolib['bluecars_returned_sum'].skew()\n",
        "print(\"The skewness of the bluecars returned is: \\n\", returned_skew)\n",
        "if returned_skew == 0:\n",
        "  print(\"The distribution is symmetrical\")\n",
        "elif returned_skew > 0:\n",
        "  print(\"The distribution is positively skewed\")\n",
        "else:\n",
        "  print(\"The distribution is negatively skewed\")\n",
        "print('\\n')"
      ],
      "execution_count": 28,
      "outputs": [
        {
          "output_type": "stream",
          "text": [
            "The skewness of the bluecars taken is: \n",
            " 2.4063548974959086\n",
            "The distribution is positively skewed\n",
            "\n",
            "\n",
            "The skewness of the bluecars returned is: \n",
            " 2.412084978838923\n",
            "The distribution is positively skewed\n",
            "\n",
            "\n"
          ],
          "name": "stdout"
        }
      ]
    },
    {
      "cell_type": "code",
      "metadata": {
        "colab": {
          "base_uri": "https://localhost:8080/"
        },
        "id": "BzHIe6UDevIM",
        "outputId": "18fb9334-aecb-49fe-8c23-63ce1797a0f5"
      },
      "source": [
        "# Kurtosis\n",
        "taken_kurt = autolib['bluecars_taken_sum'].kurt()\n",
        "print(\"The kurtosis of the bluecars taken is: \\n\", taken_kurt)\n",
        "\n",
        "if taken_kurt > 0:\n",
        "  print(\"Leptokurtic\")\n",
        "elif taken_kurt < 0:\n",
        "  print(\"Platykurtic\")\n",
        "else:\n",
        "  print(\"Mesokurtic\")\n",
        "print('\\n') \n",
        "\n",
        "returned_kurt = autolib['bluecars_returned_sum'].kurt()\n",
        "print(\"The kurtosis of the bluecars returned is: \\n\", returned_kurt)\n",
        "\n",
        "if returned_kurt > 0:\n",
        "  print(\"Leptokurtic\")\n",
        "elif returned_kurt < 0:\n",
        "  print(\"Platykurtic\")\n",
        "else:\n",
        "  print(\"Mesokurtic\")\n",
        "print('\\n') "
      ],
      "execution_count": 29,
      "outputs": [
        {
          "output_type": "stream",
          "text": [
            "The kurtosis of the bluecars taken is: \n",
            " 6.172692305510042\n",
            "Leptokurtic\n",
            "\n",
            "\n",
            "The kurtosis of the bluecars returned is: \n",
            " 6.1862880957582345\n",
            "Leptokurtic\n",
            "\n",
            "\n"
          ],
          "name": "stdout"
        }
      ]
    },
    {
      "cell_type": "code",
      "metadata": {
        "colab": {
          "base_uri": "https://localhost:8080/"
        },
        "id": "0Lm9TLkwgB47",
        "outputId": "2a41a0af-0938-4fed-ea06-d98c57079e0c"
      },
      "source": [
        "# Summary statistsics for the bluecars returned\n",
        "autolib['bluecars_returned_sum'].describe()"
      ],
      "execution_count": 30,
      "outputs": [
        {
          "output_type": "execute_result",
          "data": {
            "text/plain": [
              "count    16085.000000\n",
              "mean       125.912714\n",
              "std        185.501535\n",
              "min          0.000000\n",
              "25%         20.000000\n",
              "50%         46.000000\n",
              "75%        135.000000\n",
              "max       1332.000000\n",
              "Name: bluecars_returned_sum, dtype: float64"
            ]
          },
          "metadata": {
            "tags": []
          },
          "execution_count": 30
        }
      ]
    },
    {
      "cell_type": "code",
      "metadata": {
        "colab": {
          "base_uri": "https://localhost:8080/"
        },
        "id": "Iwunox5bgrlG",
        "outputId": "51cafd9e-09c8-457c-f389-03251516c9b2"
      },
      "source": [
        "# Summary statistics for the bluecars taken\n",
        "autolib['bluecars_taken_sum'].describe()"
      ],
      "execution_count": 31,
      "outputs": [
        {
          "output_type": "execute_result",
          "data": {
            "text/plain": [
              "count    16085.000000\n",
              "mean       125.926951\n",
              "std        185.426579\n",
              "min          0.000000\n",
              "25%         20.000000\n",
              "50%         46.000000\n",
              "75%        135.000000\n",
              "max       1352.000000\n",
              "Name: bluecars_taken_sum, dtype: float64"
            ]
          },
          "metadata": {
            "tags": []
          },
          "execution_count": 31
        }
      ]
    },
    {
      "cell_type": "markdown",
      "metadata": {
        "id": "StJvoLG5hRmQ"
      },
      "source": [
        "### 6.1.3 Visualization techniques"
      ]
    },
    {
      "cell_type": "code",
      "metadata": {
        "colab": {
          "base_uri": "https://localhost:8080/",
          "height": 351
        },
        "id": "xdFzuJvigGsM",
        "outputId": "ea15f76f-b3d1-48c0-c37d-befdd800ae56"
      },
      "source": [
        "# Box plot of the bluecars returned\n",
        "sns.boxplot(autolib['bluecars_returned_sum'], showmeans=True)"
      ],
      "execution_count": 32,
      "outputs": [
        {
          "output_type": "stream",
          "text": [
            "/usr/local/lib/python3.7/dist-packages/seaborn/_decorators.py:43: FutureWarning: Pass the following variable as a keyword arg: x. From version 0.12, the only valid positional argument will be `data`, and passing other arguments without an explicit keyword will result in an error or misinterpretation.\n",
            "  FutureWarning\n"
          ],
          "name": "stderr"
        },
        {
          "output_type": "execute_result",
          "data": {
            "text/plain": [
              "<matplotlib.axes._subplots.AxesSubplot at 0x7f234a26f450>"
            ]
          },
          "metadata": {
            "tags": []
          },
          "execution_count": 32
        },
        {
          "output_type": "display_data",
          "data": {
            "image/png": "[encoded data removed]",
            "text/plain": [
              "<Figure size 432x288 with 1 Axes>"
            ]
          },
          "metadata": {
            "tags": [],
            "needs_background": "light"
          }
        }
      ]
    },
    {
      "cell_type": "code",
      "metadata": {
        "colab": {
          "base_uri": "https://localhost:8080/",
          "height": 351
        },
        "id": "dlpTjKb7rZ55",
        "outputId": "a3cc3479-bdf0-43a4-863e-d69f73848ec5"
      },
      "source": [
        "# Box plot of the bluecars taken\n",
        "sns.boxplot(autolib['bluecars_taken_sum'], showmeans=True)"
      ],
      "execution_count": 33,
      "outputs": [
        {
          "output_type": "stream",
          "text": [
            "/usr/local/lib/python3.7/dist-packages/seaborn/_decorators.py:43: FutureWarning: Pass the following variable as a keyword arg: x. From version 0.12, the only valid positional argument will be `data`, and passing other arguments without an explicit keyword will result in an error or misinterpretation.\n",
            "  FutureWarning\n"
          ],
          "name": "stderr"
        },
        {
          "output_type": "execute_result",
          "data": {
            "text/plain": [
              "<matplotlib.axes._subplots.AxesSubplot at 0x7f234a257a90>"
            ]
          },
          "metadata": {
            "tags": []
          },
          "execution_count": 33
        },
        {
          "output_type": "display_data",
          "data": {
            "image/png": "[encoded data removed]",
            "text/plain": [
              "<Figure size 432x288 with 1 Axes>"
            ]
          },
          "metadata": {
            "tags": [],
            "needs_background": "light"
          }
        }
      ]
    },
    {
      "cell_type": "markdown",
      "metadata": {
        "id": "n8LGTPY5ry5N"
      },
      "source": [
        "## 6.2 Bivariate Analysis"
      ]
    },
    {
      "cell_type": "markdown",
      "metadata": {
        "id": "olt501fjr5o4"
      },
      "source": [
        "### 6.2.1 Numerical and Numerical Variables"
      ]
    },
    {
      "cell_type": "markdown",
      "metadata": {
        "id": "lFMFYB3vwtpX"
      },
      "source": [
        "#### a) Scatter Plots"
      ]
    },
    {
      "cell_type": "code",
      "metadata": {
        "colab": {
          "base_uri": "https://localhost:8080/",
          "height": 377
        },
        "id": "pK6KSAqnt4an",
        "outputId": "2a12cc9d-d522-46e7-d76d-cfb3a4421b66"
      },
      "source": [
        "# Scatter plots\n",
        "# First we can group the day by the number of bluecars returned\n",
        "size=autolib.groupby('dayofweek')['bluecars_returned_sum'].sum().reset_index(name='total number of cars returned per day')\n",
        "size\n",
        "plt.figure(figsize=(7,5))\n",
        "plt.scatter(size[\"dayofweek\"] , size[\"total number of cars returned per day\"])\n",
        "plt.xlabel(\"Day of week\")\n",
        "plt.ylabel(\"Total number of cars returned\")\n",
        "plt.title(\"Scatter plot of total bluecars retuned per day\", y=1.1)\n",
        "plt.show()"
      ],
      "execution_count": 34,
      "outputs": [
        {
          "output_type": "display_data",
          "data": {
            "image/png": "[encoded data removed]",
            "text/plain": [
              "<Figure size 504x360 with 1 Axes>"
            ]
          },
          "metadata": {
            "tags": [],
            "needs_background": "light"
          }
        }
      ]
    },
    {
      "cell_type": "code",
      "metadata": {
        "colab": {
          "base_uri": "https://localhost:8080/",
          "height": 317
        },
        "id": "6wQKV8MQuJPG",
        "outputId": "199e02bf-e143-4571-efff-597e1d8dac46"
      },
      "source": [
        "# Scatter plot of the total bluecars taken per day\n",
        "size=autolib.groupby('dayofweek')['bluecars_taken_sum'].sum().reset_index(name='total number of cars taken per day')\n",
        "size\n",
        "plt.scatter(size[\"dayofweek\"] , size[\"total number of cars taken per day\"], c='g')\n",
        "plt.xlabel(\"Day of week\")\n",
        "plt.ylabel(\"Total number of cars taken\")\n",
        "plt.title(\"Scatter plot of total bluecars taken per day\", y=1.1)\n",
        "plt.show()"
      ],
      "execution_count": 35,
      "outputs": [
        {
          "output_type": "display_data",
          "data": {
            "image/png": "[encoded data removed]",
            "text/plain": [
              "<Figure size 432x288 with 1 Axes>"
            ]
          },
          "metadata": {
            "tags": [],
            "needs_background": "light"
          }
        }
      ]
    },
    {
      "cell_type": "code",
      "metadata": {
        "colab": {
          "base_uri": "https://localhost:8080/",
          "height": 317
        },
        "id": "xETvxSxFu4HP",
        "outputId": "3f1ed25c-f95a-452f-9ca9-470abcc762ea"
      },
      "source": [
        "# Scatter plot of total daily points per day\n",
        "size=autolib.groupby('dayofweek')['n_daily_data_points'].sum().reset_index(name='total daily data points per day')\n",
        "size\n",
        "plt.scatter(size[\"dayofweek\"] , size[\"total daily data points per day\"])\n",
        "plt.xlabel(\"Day of week\")\n",
        "plt.ylabel(\"Total daily data points\")\n",
        "plt.title(\"Scatter plot of total daily data points per day\", y=1.1)\n",
        "plt.show()"
      ],
      "execution_count": 36,
      "outputs": [
        {
          "output_type": "display_data",
          "data": {
            "image/png": "[encoded data removed]",
            "text/plain": [
              "<Figure size 432x288 with 1 Axes>"
            ]
          },
          "metadata": {
            "tags": [],
            "needs_background": "light"
          }
        }
      ]
    },
    {
      "cell_type": "markdown",
      "metadata": {
        "id": "IZilVI5xw0nI"
      },
      "source": [
        "#### b) Correlation"
      ]
    },
    {
      "cell_type": "code",
      "metadata": {
        "colab": {
          "base_uri": "https://localhost:8080/",
          "height": 376
        },
        "id": "0Q-r1W-ItPFH",
        "outputId": "d309d57d-e308-49df-d2c4-6dbbf49c86f1"
      },
      "source": [
        "# Correlation using a heatmap\n",
        "sns.heatmap(autolib.corr(),annot=True)\n",
        "plt.show()"
      ],
      "execution_count": 37,
      "outputs": [
        {
          "output_type": "display_data",
          "data": {
            "image/png": "[encoded data removed]",
            "text/plain": [
              "<Figure size 432x288 with 2 Axes>"
            ]
          },
          "metadata": {
            "tags": [],
            "needs_background": "light"
          }
        }
      ]
    },
    {
      "cell_type": "markdown",
      "metadata": {
        "id": "fp26iRxB-sIe"
      },
      "source": [
        "### 6.2.2 Categorical and Categorical Variables"
      ]
    },
    {
      "cell_type": "markdown",
      "metadata": {
        "id": "4K-ADGSew9Ju"
      },
      "source": [
        "#### a) Stacked Column Chart"
      ]
    },
    {
      "cell_type": "code",
      "metadata": {
        "colab": {
          "base_uri": "https://localhost:8080/",
          "height": 549
        },
        "id": "RzSMnsb_weS0",
        "outputId": "bfca4451-71da-4b53-8138-5f65a93a9845"
      },
      "source": [
        "# Stacked column chart of the day by day type\n",
        "pd.crosstab(autolib['day_type'],autolib['day']).plot(kind=\"bar\",stacked=True,figsize=(12,8))"
      ],
      "execution_count": 38,
      "outputs": [
        {
          "output_type": "execute_result",
          "data": {
            "text/plain": [
              "<matplotlib.axes._subplots.AxesSubplot at 0x7f2341797c90>"
            ]
          },
          "metadata": {
            "tags": []
          },
          "execution_count": 38
        },
        {
          "output_type": "display_data",
          "data": {
            "image/png": "[encoded data removed]",
            "text/plain": [
              "<Figure size 864x576 with 1 Axes>"
            ]
          },
          "metadata": {
            "tags": [],
            "needs_background": "light"
          }
        }
      ]
    },
    {
      "cell_type": "markdown",
      "metadata": {
        "id": "EZrjKMeu-zg_"
      },
      "source": [
        "### 6.2.3 Categorical and Numerical Variables"
      ]
    },
    {
      "cell_type": "markdown",
      "metadata": {
        "id": "vaFHnEjcxUNi"
      },
      "source": [
        "#### a) Line graph"
      ]
    },
    {
      "cell_type": "code",
      "metadata": {
        "colab": {
          "base_uri": "https://localhost:8080/",
          "height": 350
        },
        "id": "9v1iVVE99H4C",
        "outputId": "ba1bc399-5fc9-4d1e-ef6d-1a42e0a58ef6"
      },
      "source": [
        "# Line graph for number of bluecars returned per day \n",
        "# First we group the days by the total bluecars returned\n",
        "returned = autolib.groupby('day')['bluecars_returned_sum'].sum().reset_index(name= 'total number of bluecars returned')\n",
        "returned\n",
        "# We then use the following axes\n",
        "x = returned['day']\n",
        "y= returned['total number of bluecars returned']\n",
        "# Plot the line graph \n",
        "plt.figure(figsize=(7,5))\n",
        "plt.plot(x,y, color = 'blue', marker = 'o', linestyle = '--')\n",
        "plt.xlabel('Days')\n",
        "plt.ylabel('Total bluecars returned')\n",
        "plt.title(\"Line graph for the total number of bluecars returned per day\", fontweight='bold')\n",
        "plt.show()"
      ],
      "execution_count": 53,
      "outputs": [
        {
          "output_type": "display_data",
          "data": {
            "image/png": "[encoded data removed]",
            "text/plain": [
              "<Figure size 504x360 with 1 Axes>"
            ]
          },
          "metadata": {
            "tags": [],
            "needs_background": "light"
          }
        }
      ]
    },
    {
      "cell_type": "code",
      "metadata": {
        "colab": {
          "base_uri": "https://localhost:8080/",
          "height": 336
        },
        "id": "F2IQjgoT9YyX",
        "outputId": "cde64941-8eb4-42e7-9e14-168921439fcb"
      },
      "source": [
        "# Line graph of bluecars taken per day\n",
        "taken = autolib.groupby('day')['bluecars_taken_sum'].sum().reset_index(name= 'total_bluecars_taken_sum')\n",
        "taken\n",
        "x = taken['day']\n",
        "y= taken['total_bluecars_taken_sum']\n",
        "plt.figure(figsize=(7,5))\n",
        "plt.title(\"Line graph for the total bluecars taken per day\", fontweight='bold')\n",
        "plt.plot(x,y, color = 'orange', marker = 'o', linestyle = '--')\n",
        "plt.show()"
      ],
      "execution_count": 40,
      "outputs": [
        {
          "output_type": "display_data",
          "data": {
            "image/png": "[encoded data removed]",
            "text/plain": [
              "<Figure size 504x360 with 1 Axes>"
            ]
          },
          "metadata": {
            "tags": [],
            "needs_background": "light"
          }
        }
      ]
    },
    {
      "cell_type": "code",
      "metadata": {
        "colab": {
          "base_uri": "https://localhost:8080/",
          "height": 281
        },
        "id": "zrXlAXlz9aWh",
        "outputId": "21394ea6-7b6b-4e69-c45a-a74ab3b95cef"
      },
      "source": [
        "# Line graph for daily data points\n",
        "points = autolib.groupby('day')['n_daily_data_points'].sum().reset_index(name= 'total_n_daily_data_points')\n",
        "x = points['day']\n",
        "y= points['total_n_daily_data_points']\n",
        "plt.title(\"Line graph for the total data points per day\", fontweight='bold')\n",
        "plt.plot(x,y, color = 'green', marker = 'o', linestyle = '--' )\n",
        "plt.show()"
      ],
      "execution_count": 41,
      "outputs": [
        {
          "output_type": "display_data",
          "data": {
            "image/png": "[encoded data removed]",
            "text/plain": [
              "<Figure size 432x288 with 1 Axes>"
            ]
          },
          "metadata": {
            "tags": [],
            "needs_background": "light"
          }
        }
      ]
    },
    {
      "cell_type": "markdown",
      "metadata": {
        "id": "7aVBWJB7UetK"
      },
      "source": [
        "# 7.0 Implementing the Solution"
      ]
    },
    {
      "cell_type": "markdown",
      "metadata": {
        "id": "bnMXzqTA_S-K"
      },
      "source": [
        "> # Hypothesis Testing"
      ]
    },
    {
      "cell_type": "code",
      "metadata": {
        "colab": {
          "base_uri": "https://localhost:8080/",
          "height": 419
        },
        "id": "SAVIMVRX7yGc",
        "outputId": "57b9d5f2-4037-4042-f321-d4e26f21fe33"
      },
      "source": [
        "# First we locate the weekdays in our dataset\n",
        "weekday = autolib.loc[autolib['day_type'] == 'weekday']\n",
        "weekday"
      ],
      "execution_count": 42,
      "outputs": [
        {
          "output_type": "execute_result",
          "data": {
            "text/html": [
              "<div>\n",
              "<style scoped>\n",
              "    .dataframe tbody tr th:only-of-type {\n",
              "        vertical-align: middle;\n",
              "    }\n",
              "\n",
              "    .dataframe tbody tr th {\n",
              "        vertical-align: top;\n",
              "    }\n",
              "\n",
              "    .dataframe thead th {\n",
              "        text-align: right;\n",
              "    }\n",
              "</style>\n",
              "<table border=\"1\" class=\"dataframe\">\n",
              "  <thead>\n",
              "    <tr style=\"text-align: right;\">\n",
              "      <th></th>\n",
              "      <th>postal_code</th>\n",
              "      <th>date</th>\n",
              "      <th>n_daily_data_points</th>\n",
              "      <th>dayofweek</th>\n",
              "      <th>day_type</th>\n",
              "      <th>bluecars_taken_sum</th>\n",
              "      <th>bluecars_returned_sum</th>\n",
              "      <th>day</th>\n",
              "    </tr>\n",
              "  </thead>\n",
              "  <tbody>\n",
              "    <tr>\n",
              "      <th>0</th>\n",
              "      <td>75001</td>\n",
              "      <td>1/1/2018</td>\n",
              "      <td>1440</td>\n",
              "      <td>0</td>\n",
              "      <td>weekday</td>\n",
              "      <td>110</td>\n",
              "      <td>103</td>\n",
              "      <td>Monday</td>\n",
              "    </tr>\n",
              "    <tr>\n",
              "      <th>1</th>\n",
              "      <td>75001</td>\n",
              "      <td>1/2/2018</td>\n",
              "      <td>1438</td>\n",
              "      <td>1</td>\n",
              "      <td>weekday</td>\n",
              "      <td>98</td>\n",
              "      <td>94</td>\n",
              "      <td>Tuesday</td>\n",
              "    </tr>\n",
              "    <tr>\n",
              "      <th>2</th>\n",
              "      <td>75001</td>\n",
              "      <td>1/3/2018</td>\n",
              "      <td>1439</td>\n",
              "      <td>2</td>\n",
              "      <td>weekday</td>\n",
              "      <td>138</td>\n",
              "      <td>139</td>\n",
              "      <td>Wednesday</td>\n",
              "    </tr>\n",
              "    <tr>\n",
              "      <th>3</th>\n",
              "      <td>75001</td>\n",
              "      <td>1/4/2018</td>\n",
              "      <td>1320</td>\n",
              "      <td>3</td>\n",
              "      <td>weekday</td>\n",
              "      <td>104</td>\n",
              "      <td>104</td>\n",
              "      <td>Thursday</td>\n",
              "    </tr>\n",
              "    <tr>\n",
              "      <th>4</th>\n",
              "      <td>75001</td>\n",
              "      <td>1/5/2018</td>\n",
              "      <td>1440</td>\n",
              "      <td>4</td>\n",
              "      <td>weekday</td>\n",
              "      <td>114</td>\n",
              "      <td>117</td>\n",
              "      <td>Friday</td>\n",
              "    </tr>\n",
              "    <tr>\n",
              "      <th>...</th>\n",
              "      <td>...</td>\n",
              "      <td>...</td>\n",
              "      <td>...</td>\n",
              "      <td>...</td>\n",
              "      <td>...</td>\n",
              "      <td>...</td>\n",
              "      <td>...</td>\n",
              "      <td>...</td>\n",
              "    </tr>\n",
              "    <tr>\n",
              "      <th>16078</th>\n",
              "      <td>95880</td>\n",
              "      <td>6/13/2018</td>\n",
              "      <td>1440</td>\n",
              "      <td>2</td>\n",
              "      <td>weekday</td>\n",
              "      <td>12</td>\n",
              "      <td>13</td>\n",
              "      <td>Wednesday</td>\n",
              "    </tr>\n",
              "    <tr>\n",
              "      <th>16079</th>\n",
              "      <td>95880</td>\n",
              "      <td>6/14/2018</td>\n",
              "      <td>1439</td>\n",
              "      <td>3</td>\n",
              "      <td>weekday</td>\n",
              "      <td>15</td>\n",
              "      <td>13</td>\n",
              "      <td>Thursday</td>\n",
              "    </tr>\n",
              "    <tr>\n",
              "      <th>16080</th>\n",
              "      <td>95880</td>\n",
              "      <td>6/15/2018</td>\n",
              "      <td>1440</td>\n",
              "      <td>4</td>\n",
              "      <td>weekday</td>\n",
              "      <td>15</td>\n",
              "      <td>10</td>\n",
              "      <td>Friday</td>\n",
              "    </tr>\n",
              "    <tr>\n",
              "      <th>16083</th>\n",
              "      <td>95880</td>\n",
              "      <td>6/18/2018</td>\n",
              "      <td>1440</td>\n",
              "      <td>0</td>\n",
              "      <td>weekday</td>\n",
              "      <td>11</td>\n",
              "      <td>14</td>\n",
              "      <td>Monday</td>\n",
              "    </tr>\n",
              "    <tr>\n",
              "      <th>16084</th>\n",
              "      <td>95880</td>\n",
              "      <td>6/19/2018</td>\n",
              "      <td>1370</td>\n",
              "      <td>1</td>\n",
              "      <td>weekday</td>\n",
              "      <td>2</td>\n",
              "      <td>2</td>\n",
              "      <td>Tuesday</td>\n",
              "    </tr>\n",
              "  </tbody>\n",
              "</table>\n",
              "<p>11544 rows × 8 columns</p>\n",
              "</div>"
            ],
            "text/plain": [
              "       postal_code       date  ...  bluecars_returned_sum        day\n",
              "0            75001   1/1/2018  ...                    103     Monday\n",
              "1            75001   1/2/2018  ...                     94    Tuesday\n",
              "2            75001   1/3/2018  ...                    139  Wednesday\n",
              "3            75001   1/4/2018  ...                    104   Thursday\n",
              "4            75001   1/5/2018  ...                    117     Friday\n",
              "...            ...        ...  ...                    ...        ...\n",
              "16078        95880  6/13/2018  ...                     13  Wednesday\n",
              "16079        95880  6/14/2018  ...                     13   Thursday\n",
              "16080        95880  6/15/2018  ...                     10     Friday\n",
              "16083        95880  6/18/2018  ...                     14     Monday\n",
              "16084        95880  6/19/2018  ...                      2    Tuesday\n",
              "\n",
              "[11544 rows x 8 columns]"
            ]
          },
          "metadata": {
            "tags": []
          },
          "execution_count": 42
        }
      ]
    },
    {
      "cell_type": "code",
      "metadata": {
        "colab": {
          "base_uri": "https://localhost:8080/",
          "height": 419
        },
        "id": "KiUldHiHWgP5",
        "outputId": "32766332-ff42-4dfd-96a2-e67d1b48a1ac"
      },
      "source": [
        "# We then locate the specific days that is Monday and Tuesday\n",
        "specific_day = weekday.loc[(weekday['dayofweek'] == 0) | (weekday['dayofweek'] == 1)]\n",
        "specific_day"
      ],
      "execution_count": 43,
      "outputs": [
        {
          "output_type": "execute_result",
          "data": {
            "text/html": [
              "<div>\n",
              "<style scoped>\n",
              "    .dataframe tbody tr th:only-of-type {\n",
              "        vertical-align: middle;\n",
              "    }\n",
              "\n",
              "    .dataframe tbody tr th {\n",
              "        vertical-align: top;\n",
              "    }\n",
              "\n",
              "    .dataframe thead th {\n",
              "        text-align: right;\n",
              "    }\n",
              "</style>\n",
              "<table border=\"1\" class=\"dataframe\">\n",
              "  <thead>\n",
              "    <tr style=\"text-align: right;\">\n",
              "      <th></th>\n",
              "      <th>postal_code</th>\n",
              "      <th>date</th>\n",
              "      <th>n_daily_data_points</th>\n",
              "      <th>dayofweek</th>\n",
              "      <th>day_type</th>\n",
              "      <th>bluecars_taken_sum</th>\n",
              "      <th>bluecars_returned_sum</th>\n",
              "      <th>day</th>\n",
              "    </tr>\n",
              "  </thead>\n",
              "  <tbody>\n",
              "    <tr>\n",
              "      <th>0</th>\n",
              "      <td>75001</td>\n",
              "      <td>1/1/2018</td>\n",
              "      <td>1440</td>\n",
              "      <td>0</td>\n",
              "      <td>weekday</td>\n",
              "      <td>110</td>\n",
              "      <td>103</td>\n",
              "      <td>Monday</td>\n",
              "    </tr>\n",
              "    <tr>\n",
              "      <th>1</th>\n",
              "      <td>75001</td>\n",
              "      <td>1/2/2018</td>\n",
              "      <td>1438</td>\n",
              "      <td>1</td>\n",
              "      <td>weekday</td>\n",
              "      <td>98</td>\n",
              "      <td>94</td>\n",
              "      <td>Tuesday</td>\n",
              "    </tr>\n",
              "    <tr>\n",
              "      <th>7</th>\n",
              "      <td>75001</td>\n",
              "      <td>1/8/2018</td>\n",
              "      <td>1438</td>\n",
              "      <td>0</td>\n",
              "      <td>weekday</td>\n",
              "      <td>84</td>\n",
              "      <td>83</td>\n",
              "      <td>Monday</td>\n",
              "    </tr>\n",
              "    <tr>\n",
              "      <th>8</th>\n",
              "      <td>75001</td>\n",
              "      <td>1/9/2018</td>\n",
              "      <td>1439</td>\n",
              "      <td>1</td>\n",
              "      <td>weekday</td>\n",
              "      <td>81</td>\n",
              "      <td>84</td>\n",
              "      <td>Tuesday</td>\n",
              "    </tr>\n",
              "    <tr>\n",
              "      <th>14</th>\n",
              "      <td>75001</td>\n",
              "      <td>1/15/2018</td>\n",
              "      <td>1440</td>\n",
              "      <td>0</td>\n",
              "      <td>weekday</td>\n",
              "      <td>107</td>\n",
              "      <td>107</td>\n",
              "      <td>Monday</td>\n",
              "    </tr>\n",
              "    <tr>\n",
              "      <th>...</th>\n",
              "      <td>...</td>\n",
              "      <td>...</td>\n",
              "      <td>...</td>\n",
              "      <td>...</td>\n",
              "      <td>...</td>\n",
              "      <td>...</td>\n",
              "      <td>...</td>\n",
              "      <td>...</td>\n",
              "    </tr>\n",
              "    <tr>\n",
              "      <th>16070</th>\n",
              "      <td>95880</td>\n",
              "      <td>6/5/2018</td>\n",
              "      <td>1439</td>\n",
              "      <td>1</td>\n",
              "      <td>weekday</td>\n",
              "      <td>4</td>\n",
              "      <td>6</td>\n",
              "      <td>Tuesday</td>\n",
              "    </tr>\n",
              "    <tr>\n",
              "      <th>16076</th>\n",
              "      <td>95880</td>\n",
              "      <td>6/11/2018</td>\n",
              "      <td>1440</td>\n",
              "      <td>0</td>\n",
              "      <td>weekday</td>\n",
              "      <td>17</td>\n",
              "      <td>18</td>\n",
              "      <td>Monday</td>\n",
              "    </tr>\n",
              "    <tr>\n",
              "      <th>16077</th>\n",
              "      <td>95880</td>\n",
              "      <td>6/12/2018</td>\n",
              "      <td>1439</td>\n",
              "      <td>1</td>\n",
              "      <td>weekday</td>\n",
              "      <td>25</td>\n",
              "      <td>25</td>\n",
              "      <td>Tuesday</td>\n",
              "    </tr>\n",
              "    <tr>\n",
              "      <th>16083</th>\n",
              "      <td>95880</td>\n",
              "      <td>6/18/2018</td>\n",
              "      <td>1440</td>\n",
              "      <td>0</td>\n",
              "      <td>weekday</td>\n",
              "      <td>11</td>\n",
              "      <td>14</td>\n",
              "      <td>Monday</td>\n",
              "    </tr>\n",
              "    <tr>\n",
              "      <th>16084</th>\n",
              "      <td>95880</td>\n",
              "      <td>6/19/2018</td>\n",
              "      <td>1370</td>\n",
              "      <td>1</td>\n",
              "      <td>weekday</td>\n",
              "      <td>2</td>\n",
              "      <td>2</td>\n",
              "      <td>Tuesday</td>\n",
              "    </tr>\n",
              "  </tbody>\n",
              "</table>\n",
              "<p>4737 rows × 8 columns</p>\n",
              "</div>"
            ],
            "text/plain": [
              "       postal_code       date  ...  bluecars_returned_sum      day\n",
              "0            75001   1/1/2018  ...                    103   Monday\n",
              "1            75001   1/2/2018  ...                     94  Tuesday\n",
              "7            75001   1/8/2018  ...                     83   Monday\n",
              "8            75001   1/9/2018  ...                     84  Tuesday\n",
              "14           75001  1/15/2018  ...                    107   Monday\n",
              "...            ...        ...  ...                    ...      ...\n",
              "16070        95880   6/5/2018  ...                      6  Tuesday\n",
              "16076        95880  6/11/2018  ...                     18   Monday\n",
              "16077        95880  6/12/2018  ...                     25  Tuesday\n",
              "16083        95880  6/18/2018  ...                     14   Monday\n",
              "16084        95880  6/19/2018  ...                      2  Tuesday\n",
              "\n",
              "[4737 rows x 8 columns]"
            ]
          },
          "metadata": {
            "tags": []
          },
          "execution_count": 43
        }
      ]
    },
    {
      "cell_type": "code",
      "metadata": {
        "id": "9fF-G1098NLi"
      },
      "source": [
        "# We then drop the unnecessary columns which we won't use in our solution\n",
        "specific_day.drop(['date', 'day_type', 'day', 'n_daily_data_points'], axis=1, inplace=True)"
      ],
      "execution_count": 44,
      "outputs": []
    },
    {
      "cell_type": "code",
      "metadata": {
        "colab": {
          "base_uri": "https://localhost:8080/",
          "height": 419
        },
        "id": "PdE2kn31WCWX",
        "outputId": "4b83786b-cd5a-4c63-cd09-807e4aa9235c"
      },
      "source": [
        "# Stratified Sampling Technique\n",
        "strat_output = specific_day.groupby('dayofweek', group_keys=False).apply(lambda grouped_subset : grouped_subset.sample(frac=0.1))\n",
        "strat_output"
      ],
      "execution_count": 45,
      "outputs": [
        {
          "output_type": "execute_result",
          "data": {
            "text/html": [
              "<div>\n",
              "<style scoped>\n",
              "    .dataframe tbody tr th:only-of-type {\n",
              "        vertical-align: middle;\n",
              "    }\n",
              "\n",
              "    .dataframe tbody tr th {\n",
              "        vertical-align: top;\n",
              "    }\n",
              "\n",
              "    .dataframe thead th {\n",
              "        text-align: right;\n",
              "    }\n",
              "</style>\n",
              "<table border=\"1\" class=\"dataframe\">\n",
              "  <thead>\n",
              "    <tr style=\"text-align: right;\">\n",
              "      <th></th>\n",
              "      <th>postal_code</th>\n",
              "      <th>dayofweek</th>\n",
              "      <th>bluecars_taken_sum</th>\n",
              "      <th>bluecars_returned_sum</th>\n",
              "    </tr>\n",
              "  </thead>\n",
              "  <tbody>\n",
              "    <tr>\n",
              "      <th>8233</th>\n",
              "      <td>92350</td>\n",
              "      <td>0</td>\n",
              "      <td>19</td>\n",
              "      <td>20</td>\n",
              "    </tr>\n",
              "    <tr>\n",
              "      <th>6563</th>\n",
              "      <td>92240</td>\n",
              "      <td>0</td>\n",
              "      <td>102</td>\n",
              "      <td>95</td>\n",
              "    </tr>\n",
              "    <tr>\n",
              "      <th>15808</th>\n",
              "      <td>95870</td>\n",
              "      <td>0</td>\n",
              "      <td>14</td>\n",
              "      <td>14</td>\n",
              "    </tr>\n",
              "    <tr>\n",
              "      <th>9009</th>\n",
              "      <td>92400</td>\n",
              "      <td>0</td>\n",
              "      <td>97</td>\n",
              "      <td>101</td>\n",
              "    </tr>\n",
              "    <tr>\n",
              "      <th>12007</th>\n",
              "      <td>93390</td>\n",
              "      <td>0</td>\n",
              "      <td>3</td>\n",
              "      <td>1</td>\n",
              "    </tr>\n",
              "    <tr>\n",
              "      <th>...</th>\n",
              "      <td>...</td>\n",
              "      <td>...</td>\n",
              "      <td>...</td>\n",
              "      <td>...</td>\n",
              "    </tr>\n",
              "    <tr>\n",
              "      <th>1857</th>\n",
              "      <td>75012</td>\n",
              "      <td>1</td>\n",
              "      <td>459</td>\n",
              "      <td>461</td>\n",
              "    </tr>\n",
              "    <tr>\n",
              "      <th>8388</th>\n",
              "      <td>92360</td>\n",
              "      <td>1</td>\n",
              "      <td>10</td>\n",
              "      <td>3</td>\n",
              "    </tr>\n",
              "    <tr>\n",
              "      <th>10070</th>\n",
              "      <td>93100</td>\n",
              "      <td>1</td>\n",
              "      <td>108</td>\n",
              "      <td>118</td>\n",
              "    </tr>\n",
              "    <tr>\n",
              "      <th>3305</th>\n",
              "      <td>75116</td>\n",
              "      <td>1</td>\n",
              "      <td>14</td>\n",
              "      <td>13</td>\n",
              "    </tr>\n",
              "    <tr>\n",
              "      <th>14303</th>\n",
              "      <td>94220</td>\n",
              "      <td>1</td>\n",
              "      <td>44</td>\n",
              "      <td>51</td>\n",
              "    </tr>\n",
              "  </tbody>\n",
              "</table>\n",
              "<p>473 rows × 4 columns</p>\n",
              "</div>"
            ],
            "text/plain": [
              "       postal_code  dayofweek  bluecars_taken_sum  bluecars_returned_sum\n",
              "8233         92350          0                  19                     20\n",
              "6563         92240          0                 102                     95\n",
              "15808        95870          0                  14                     14\n",
              "9009         92400          0                  97                    101\n",
              "12007        93390          0                   3                      1\n",
              "...            ...        ...                 ...                    ...\n",
              "1857         75012          1                 459                    461\n",
              "8388         92360          1                  10                      3\n",
              "10070        93100          1                 108                    118\n",
              "3305         75116          1                  14                     13\n",
              "14303        94220          1                  44                     51\n",
              "\n",
              "[473 rows x 4 columns]"
            ]
          },
          "metadata": {
            "tags": []
          },
          "execution_count": 45
        }
      ]
    },
    {
      "cell_type": "code",
      "metadata": {
        "id": "TH1KscNwAdr4"
      },
      "source": [
        "# Stratified Sampling\n",
        "#strat_output = weekend.groupby('dayofweek', group_keys=False).apply(lambda grouped_subset : grouped_subset.sample(frac=0.1))"
      ],
      "execution_count": 46,
      "outputs": []
    },
    {
      "cell_type": "code",
      "metadata": {
        "colab": {
          "base_uri": "https://localhost:8080/"
        },
        "id": "gypSEDGPCCLR",
        "outputId": "48bdc670-4b0d-4183-8b40-a6d388a40c6f"
      },
      "source": [
        "# Pop mean \n",
        "pop_mean = autolib['bluecars_taken_sum'].mean()\n",
        "pop_mean"
      ],
      "execution_count": 47,
      "outputs": [
        {
          "output_type": "execute_result",
          "data": {
            "text/plain": [
              "125.92695057506994"
            ]
          },
          "metadata": {
            "tags": []
          },
          "execution_count": 47
        }
      ]
    },
    {
      "cell_type": "code",
      "metadata": {
        "colab": {
          "base_uri": "https://localhost:8080/"
        },
        "id": "DTEGTMdaFiHR",
        "outputId": "96ab67f1-6d88-462b-a30e-6824dc87c20b"
      },
      "source": [
        "# Sample Mean \n",
        "sample_mean = strat_output['bluecars_taken_sum'].mean()\n",
        "sample_mean"
      ],
      "execution_count": 48,
      "outputs": [
        {
          "output_type": "execute_result",
          "data": {
            "text/plain": [
              "113.44397463002115"
            ]
          },
          "metadata": {
            "tags": []
          },
          "execution_count": 48
        }
      ]
    },
    {
      "cell_type": "code",
      "metadata": {
        "colab": {
          "base_uri": "https://localhost:8080/"
        },
        "id": "bITgzejQFzXU",
        "outputId": "d8b8aaf4-c3d0-45b1-e2ff-f4ff61474363"
      },
      "source": [
        "# Standard Deviation\n",
        "sample_std = strat_output['bluecars_taken_sum'].std()\n",
        "sample_std"
      ],
      "execution_count": 49,
      "outputs": [
        {
          "output_type": "execute_result",
          "data": {
            "text/plain": [
              "153.8439720078493"
            ]
          },
          "metadata": {
            "tags": []
          },
          "execution_count": 49
        }
      ]
    },
    {
      "cell_type": "code",
      "metadata": {
        "colab": {
          "base_uri": "https://localhost:8080/"
        },
        "id": "a1KLf4hZGcQL",
        "outputId": "9b11c02a-91ba-465d-d764-66b726148416"
      },
      "source": [
        "# Z-score for bluecars taken during the weekend\n",
        "z_score = (pop_mean - sample_mean) / sample_std\n",
        "z_score"
      ],
      "execution_count": 59,
      "outputs": [
        {
          "output_type": "execute_result",
          "data": {
            "text/plain": [
              "0.08114049437316853"
            ]
          },
          "metadata": {
            "tags": []
          },
          "execution_count": 59
        }
      ]
    },
    {
      "cell_type": "code",
      "metadata": {
        "colab": {
          "base_uri": "https://localhost:8080/"
        },
        "id": "idqjCoOZHRzX",
        "outputId": "8489c861-0b1b-4540-9251-ba6f1479389b"
      },
      "source": [
        "# P-value \n",
        "pvalue = stats.norm.cdf(z_score)\n",
        "pvalue"
      ],
      "execution_count": 60,
      "outputs": [
        {
          "output_type": "execute_result",
          "data": {
            "text/plain": [
              "0.5323348890065372"
            ]
          },
          "metadata": {
            "tags": []
          },
          "execution_count": 60
        }
      ]
    },
    {
      "cell_type": "code",
      "metadata": {
        "colab": {
          "base_uri": "https://localhost:8080/"
        },
        "id": "4raxGWuWbeYc",
        "outputId": "9887c8f6-fe64-4c69-d724-054b354789b6"
      },
      "source": [
        "# Interpret the p value \n",
        "# by comparing with the significance level\n",
        "\n",
        "alpha = 0.05\n",
        "if pvalue < alpha:\n",
        "  print(\"Reject the null hypothesis and accept the alternative hypothesis\")\n",
        "else:\n",
        "  print(\"Fail to reject the null hypothesis\")"
      ],
      "execution_count": 58,
      "outputs": [
        {
          "output_type": "stream",
          "text": [
            "Fail to reject the null hypothesis\n"
          ],
          "name": "stdout"
        }
      ]
    },
    {
      "cell_type": "code",
      "metadata": {
        "colab": {
          "base_uri": "https://localhost:8080/"
        },
        "id": "1SJ7bNvs_VNs",
        "outputId": "a673a08a-2f0c-415b-f23d-aa59317c944c"
      },
      "source": [
        "# Calculating the point estimate\n",
        "point_estimate = pop_mean - sample_mean\n",
        "point_estimate"
      ],
      "execution_count": 61,
      "outputs": [
        {
          "output_type": "execute_result",
          "data": {
            "text/plain": [
              "12.482975945048793"
            ]
          },
          "metadata": {
            "tags": []
          },
          "execution_count": 61
        }
      ]
    },
    {
      "cell_type": "code",
      "metadata": {
        "colab": {
          "base_uri": "https://localhost:8080/"
        },
        "id": "LcrfcpUIAPna",
        "outputId": "5bf9052d-13fe-438d-e15c-be003a974f3e"
      },
      "source": [
        "import math\n",
        "\n",
        "# Calculating the z-critical and the confidence interval\n",
        "\n",
        "z_critical = stats.norm.ppf(q = 0.975)  \n",
        "\n",
        "print(\"z-critical value is :\", z_critical)                         \n",
        "\n",
        "pop_stdev = autolib['bluecars_taken_sum'].std()  # Get the population standard deviation\n",
        "\n",
        "margin_of_error = z_critical * (pop_stdev/math.sqrt(473))\n",
        "\n",
        "confidence_interval = (sample_mean - margin_of_error,\n",
        "                       sample_mean + margin_of_error)  \n",
        "\n",
        "print(\"Confidence interval is :\", confidence_interval)"
      ],
      "execution_count": 63,
      "outputs": [
        {
          "output_type": "stream",
          "text": [
            "z-critical value is : 1.959963984540054\n",
            "Confidence interval is : (96.73347227158973, 130.15447698845256)\n"
          ],
          "name": "stdout"
        }
      ]
    },
    {
      "cell_type": "markdown",
      "metadata": {
        "id": "Fd4zQ8t-cLUC"
      },
      "source": [
        "# Conclusion"
      ]
    },
    {
      "cell_type": "markdown",
      "metadata": {
        "id": "sEV3bplfcO23"
      },
      "source": [
        "> In conclusion, we fail to reject the null hypothesis since the evidence suggests that the average number of blue cars taken on Monday is similar to the average number of blue cars taken on Tuesday."
      ]
    }
  ]
}